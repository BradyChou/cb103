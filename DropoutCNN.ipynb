{
 "cells": [
  {
   "cell_type": "code",
   "execution_count": 1,
   "metadata": {
    "scrolled": true
   },
   "outputs": [
    {
     "name": "stderr",
     "output_type": "stream",
     "text": [
      "Using TensorFlow backend.\n"
     ]
    },
    {
     "name": "stdout",
     "output_type": "stream",
     "text": [
      "_________________________________________________________________\n",
      "Layer (type)                 Output Shape              Param #   \n",
      "=================================================================\n",
      "input_1 (InputLayer)         (None, 224, 224, 3)       0         \n",
      "_________________________________________________________________\n",
      "block1_conv1 (Conv2D)        (None, 224, 224, 64)      1792      \n",
      "_________________________________________________________________\n",
      "block1_conv2 (Conv2D)        (None, 224, 224, 64)      36928     \n",
      "_________________________________________________________________\n",
      "block1_pool (MaxPooling2D)   (None, 112, 112, 64)      0         \n",
      "_________________________________________________________________\n",
      "block2_conv1 (Conv2D)        (None, 112, 112, 128)     73856     \n",
      "_________________________________________________________________\n",
      "block2_conv2 (Conv2D)        (None, 112, 112, 128)     147584    \n",
      "_________________________________________________________________\n",
      "block2_pool (MaxPooling2D)   (None, 56, 56, 128)       0         \n",
      "_________________________________________________________________\n",
      "block3_conv1 (Conv2D)        (None, 56, 56, 256)       295168    \n",
      "_________________________________________________________________\n",
      "block3_conv2 (Conv2D)        (None, 56, 56, 256)       590080    \n",
      "_________________________________________________________________\n",
      "block3_conv3 (Conv2D)        (None, 56, 56, 256)       590080    \n",
      "_________________________________________________________________\n",
      "block3_pool (MaxPooling2D)   (None, 28, 28, 256)       0         \n",
      "_________________________________________________________________\n",
      "block4_conv1 (Conv2D)        (None, 28, 28, 512)       1180160   \n",
      "_________________________________________________________________\n",
      "block4_conv2 (Conv2D)        (None, 28, 28, 512)       2359808   \n",
      "_________________________________________________________________\n",
      "block4_conv3 (Conv2D)        (None, 28, 28, 512)       2359808   \n",
      "_________________________________________________________________\n",
      "block4_pool (MaxPooling2D)   (None, 14, 14, 512)       0         \n",
      "_________________________________________________________________\n",
      "block5_conv1 (Conv2D)        (None, 14, 14, 512)       2359808   \n",
      "_________________________________________________________________\n",
      "block5_conv2 (Conv2D)        (None, 14, 14, 512)       2359808   \n",
      "_________________________________________________________________\n",
      "block5_conv3 (Conv2D)        (None, 14, 14, 512)       2359808   \n",
      "_________________________________________________________________\n",
      "block5_pool (MaxPooling2D)   (None, 7, 7, 512)         0         \n",
      "=================================================================\n",
      "Total params: 14,714,688\n",
      "Trainable params: 14,714,688\n",
      "Non-trainable params: 0\n",
      "_________________________________________________________________\n"
     ]
    }
   ],
   "source": [
    "from keras.applications.vgg16 import VGG16\n",
    "vgg = VGG16(include_top=False, input_shape=(224, 224, 3))\n",
    "vgg.summary()"
   ]
  },
  {
   "cell_type": "code",
   "execution_count": 2,
   "metadata": {},
   "outputs": [],
   "source": [
    "from keras.datasets.cifar10 import load_data\n",
    "((x_train, y_train), (x_test, y_test)) = load_data()"
   ]
  },
  {
   "cell_type": "code",
   "execution_count": 3,
   "metadata": {},
   "outputs": [
    {
     "name": "stdout",
     "output_type": "stream",
     "text": [
      "訓練的維度: (50000, 32, 32, 3)\n",
      "測試的維度: (10000, 32, 32, 3)\n"
     ]
    }
   ],
   "source": [
    "print(\"訓練的維度:\", x_train.shape)\n",
    "print(\"測試的維度:\", x_test.shape)"
   ]
  },
  {
   "cell_type": "code",
   "execution_count": 4,
   "metadata": {},
   "outputs": [],
   "source": [
    "mapdict = {0:\"飛機\", 1:\"汽車\", 2:\"鳥\", 3:\"貓\", 4:\"鹿\", 5:\"狗\", 6:\"青蛙\",\n",
    "           7:\"馬\", 8:\"船\", 9:\"貨車\"}"
   ]
  },
  {
   "cell_type": "code",
   "execution_count": 5,
   "metadata": {},
   "outputs": [
    {
     "name": "stdout",
     "output_type": "stream",
     "text": [
      "標籤: 青蛙\n"
     ]
    },
    {
     "data": {
      "text/plain": [
       "<matplotlib.image.AxesImage at 0x16c7f406ba8>"
      ]
     },
     "execution_count": 5,
     "metadata": {},
     "output_type": "execute_result"
    },
    {
     "data": {
      "image/png": "[encoded data removed]",
      "text/plain": [
       "<Figure size 432x288 with 1 Axes>"
      ]
     },
     "metadata": {
      "needs_background": "light"
     },
     "output_type": "display_data"
    }
   ],
   "source": [
    "import matplotlib.pyplot as plt\n",
    "%matplotlib inline\n",
    "import random\n",
    "c = random.randint(0, 49999)\n",
    "print(\"標籤:\", mapdict[y_train[c][0]])\n",
    "plt.imshow(x_train[c])"
   ]
  },
  {
   "cell_type": "code",
   "execution_count": 6,
   "metadata": {},
   "outputs": [],
   "source": [
    "# normalize: (0~1)\n",
    "x_train_shape = x_train / 255\n",
    "x_test_shape = x_test / 255\n",
    "# 目標: one-hot encoding\n",
    "from keras.utils import np_utils\n",
    "y_train_onehot = np_utils.to_categorical(y_train)\n",
    "y_test_onehot = np_utils.to_categorical(y_test)"
   ]
  },
  {
   "cell_type": "code",
   "execution_count": 7,
   "metadata": {},
   "outputs": [
    {
     "name": "stdout",
     "output_type": "stream",
     "text": [
      "_________________________________________________________________\n",
      "Layer (type)                 Output Shape              Param #   \n",
      "=================================================================\n",
      "conv2d_1 (Conv2D)            (None, 32, 32, 32)        896       \n",
      "_________________________________________________________________\n",
      "max_pooling2d_1 (MaxPooling2 (None, 16, 16, 32)        0         \n",
      "_________________________________________________________________\n",
      "conv2d_2 (Conv2D)            (None, 16, 16, 64)        18496     \n",
      "_________________________________________________________________\n",
      "max_pooling2d_2 (MaxPooling2 (None, 8, 8, 64)          0         \n",
      "_________________________________________________________________\n",
      "conv2d_3 (Conv2D)            (None, 8, 8, 128)         73856     \n",
      "_________________________________________________________________\n",
      "max_pooling2d_3 (MaxPooling2 (None, 4, 4, 128)         0         \n",
      "_________________________________________________________________\n",
      "flatten_1 (Flatten)          (None, 2048)              0         \n",
      "_________________________________________________________________\n",
      "dropout_1 (Dropout)          (None, 2048)              0         \n",
      "_________________________________________________________________\n",
      "dense_1 (Dense)              (None, 256)               524544    \n",
      "_________________________________________________________________\n",
      "dropout_2 (Dropout)          (None, 256)               0         \n",
      "_________________________________________________________________\n",
      "dense_2 (Dense)              (None, 10)                2570      \n",
      "=================================================================\n",
      "Total params: 620,362\n",
      "Trainable params: 620,362\n",
      "Non-trainable params: 0\n",
      "_________________________________________________________________\n"
     ]
    }
   ],
   "source": [
    "from keras.models import Sequential\n",
    "from keras.layers import Conv2D, MaxPooling2D, Dense, Flatten, Dropout\n",
    "cnn = Sequential()\n",
    "# 第一層: 把input shape設好\n",
    "cnn.add(Conv2D(input_shape=(32, 32, 3), \n",
    "               kernel_size=(3, 3), \n",
    "               filters=32, \n",
    "               padding=\"same\", \n",
    "               activation=\"relu\"))\n",
    "cnn.add(MaxPooling2D(pool_size=2))\n",
    "cnn.add(Conv2D(kernel_size=(3, 3), \n",
    "               filters=64, \n",
    "               padding=\"same\", \n",
    "               activation=\"relu\"))\n",
    "cnn.add(MaxPooling2D(pool_size=2))\n",
    "cnn.add(Conv2D(kernel_size=(3, 3), \n",
    "               filters=128, \n",
    "               padding=\"same\", \n",
    "               activation=\"relu\"))\n",
    "cnn.add(MaxPooling2D(pool_size=2))\n",
    "cnn.add(Flatten())\n",
    "cnn.add(Dropout(0.25))\n",
    "cnn.add(Dense(units=256, activation=\"relu\"))\n",
    "cnn.add(Dropout(0.25))\n",
    "cnn.add(Dense(units=10, activation=\"softmax\"))\n",
    "cnn.summary()"
   ]
  },
  {
   "cell_type": "code",
   "execution_count": 9,
   "metadata": {},
   "outputs": [],
   "source": [
    "# 二分:binary_crossentropy\n",
    "# 多元:categorical_crossentropy\n",
    "cnn.compile(loss=\"categorical_crossentropy\", optimizer=\"adam\", metrics=[\"accuracy\"])"
   ]
  },
  {
   "cell_type": "code",
   "execution_count": 10,
   "metadata": {},
   "outputs": [
    {
     "name": "stdout",
     "output_type": "stream",
     "text": [
      "Train on 45000 samples, validate on 5000 samples\n",
      "Epoch 1/15\n",
      " - 49s - loss: 1.6619 - acc: 0.3906 - val_loss: 1.3205 - val_acc: 0.5230\n",
      "Epoch 2/15\n",
      " - 48s - loss: 1.2658 - acc: 0.5476 - val_loss: 1.0814 - val_acc: 0.6256\n",
      "Epoch 3/15\n",
      " - 47s - loss: 1.0973 - acc: 0.6095 - val_loss: 0.9951 - val_acc: 0.6478\n",
      "Epoch 4/15\n",
      " - 47s - loss: 0.9850 - acc: 0.6535 - val_loss: 0.9070 - val_acc: 0.6894\n",
      "Epoch 5/15\n",
      " - 47s - loss: 0.9067 - acc: 0.6808 - val_loss: 0.8201 - val_acc: 0.7162\n",
      "Epoch 6/15\n",
      " - 47s - loss: 0.8412 - acc: 0.7053 - val_loss: 0.8007 - val_acc: 0.7210\n",
      "Epoch 7/15\n",
      " - 47s - loss: 0.7857 - acc: 0.7259 - val_loss: 0.7472 - val_acc: 0.7350\n",
      "Epoch 8/15\n",
      " - 47s - loss: 0.7369 - acc: 0.7409 - val_loss: 0.7273 - val_acc: 0.7430\n",
      "Epoch 9/15\n",
      " - 48s - loss: 0.7021 - acc: 0.7549 - val_loss: 0.7189 - val_acc: 0.7476\n",
      "Epoch 10/15\n",
      " - 47s - loss: 0.6633 - acc: 0.7670 - val_loss: 0.7540 - val_acc: 0.7358\n",
      "Epoch 11/15\n",
      " - 48s - loss: 0.6219 - acc: 0.7819 - val_loss: 0.6749 - val_acc: 0.7654\n",
      "Epoch 12/15\n",
      " - 48s - loss: 0.5887 - acc: 0.7930 - val_loss: 0.6711 - val_acc: 0.7694\n",
      "Epoch 13/15\n",
      " - 48s - loss: 0.5616 - acc: 0.8024 - val_loss: 0.6584 - val_acc: 0.7766\n",
      "Epoch 14/15\n",
      " - 48s - loss: 0.5332 - acc: 0.8104 - val_loss: 0.6455 - val_acc: 0.7768\n",
      "Epoch 15/15\n",
      " - 48s - loss: 0.5027 - acc: 0.8213 - val_loss: 0.6572 - val_acc: 0.7706\n"
     ]
    }
   ],
   "source": [
    "# batch_size: 每看幾筆做一次梯度更新(100~200)\n",
    "# epochs: 每一筆資料要看過幾次\n",
    "# 總梯度更新次數: 資料筆數 * epochs / batch_size\n",
    "# validation_split: train_test_split\n",
    "# verbose: 輸出log的程度, 2\n",
    "train_history = cnn.fit(x_train_shape, y_train_onehot, batch_size=200, \n",
    "                epochs=15, validation_split=0.1, verbose=2)"
   ]
  },
  {
   "cell_type": "code",
   "execution_count": 11,
   "metadata": {},
   "outputs": [
    {
     "name": "stdout",
     "output_type": "stream",
     "text": [
      "10000/10000 [==============================] - 4s 396us/step\n"
     ]
    },
    {
     "data": {
      "text/plain": [
       "[0.6980721353530884, 0.7636]"
      ]
     },
     "execution_count": 11,
     "metadata": {},
     "output_type": "execute_result"
    }
   ],
   "source": [
    "cnn.evaluate(x_test_shape, y_test_onehot)"
   ]
  },
  {
   "cell_type": "code",
   "execution_count": 12,
   "metadata": {},
   "outputs": [
    {
     "data": {
      "text/plain": [
       "<matplotlib.legend.Legend at 0x16c161c6390>"
      ]
     },
     "execution_count": 12,
     "metadata": {},
     "output_type": "execute_result"
    },
    {
     "data": {
      "image/png": "[encoded data removed]",
      "text/plain": [
       "<Figure size 432x288 with 1 Axes>"
      ]
     },
     "metadata": {
      "needs_background": "light"
     },
     "output_type": "display_data"
    }
   ],
   "source": [
    "# 怎麼看幾次要停 - val_loss(藍線) -> 平緩 就可以停\n",
    "import matplotlib.pyplot as plt\n",
    "%matplotlib inline\n",
    "plt.plot(train_history.history[\"val_loss\"])\n",
    "plt.plot(train_history.history[\"loss\"])\n",
    "plt.legend([\"val loss\", \"loss\"], loc=\"upper left\")"
   ]
  },
  {
   "cell_type": "code",
   "execution_count": 13,
   "metadata": {},
   "outputs": [
    {
     "data": {
      "text/html": [
       "<div>\n",
       "<style scoped>\n",
       "    .dataframe tbody tr th:only-of-type {\n",
       "        vertical-align: middle;\n",
       "    }\n",
       "\n",
       "    .dataframe tbody tr th {\n",
       "        vertical-align: top;\n",
       "    }\n",
       "\n",
       "    .dataframe thead th {\n",
       "        text-align: right;\n",
       "    }\n",
       "</style>\n",
       "<table border=\"1\" class=\"dataframe\">\n",
       "  <thead>\n",
       "    <tr style=\"text-align: right;\">\n",
       "      <th></th>\n",
       "      <th>0</th>\n",
       "      <th>1</th>\n",
       "      <th>2</th>\n",
       "      <th>3</th>\n",
       "      <th>4</th>\n",
       "      <th>5</th>\n",
       "      <th>6</th>\n",
       "      <th>7</th>\n",
       "      <th>8</th>\n",
       "      <th>9</th>\n",
       "    </tr>\n",
       "  </thead>\n",
       "  <tbody>\n",
       "    <tr>\n",
       "      <th>0</th>\n",
       "      <td>815</td>\n",
       "      <td>21</td>\n",
       "      <td>53</td>\n",
       "      <td>16</td>\n",
       "      <td>21</td>\n",
       "      <td>14</td>\n",
       "      <td>5</td>\n",
       "      <td>10</td>\n",
       "      <td>58</td>\n",
       "      <td>48</td>\n",
       "    </tr>\n",
       "    <tr>\n",
       "      <th>1</th>\n",
       "      <td>11</td>\n",
       "      <td>867</td>\n",
       "      <td>3</td>\n",
       "      <td>4</td>\n",
       "      <td>2</td>\n",
       "      <td>1</td>\n",
       "      <td>3</td>\n",
       "      <td>4</td>\n",
       "      <td>23</td>\n",
       "      <td>80</td>\n",
       "    </tr>\n",
       "    <tr>\n",
       "      <th>2</th>\n",
       "      <td>46</td>\n",
       "      <td>12</td>\n",
       "      <td>690</td>\n",
       "      <td>75</td>\n",
       "      <td>64</td>\n",
       "      <td>47</td>\n",
       "      <td>41</td>\n",
       "      <td>30</td>\n",
       "      <td>23</td>\n",
       "      <td>13</td>\n",
       "    </tr>\n",
       "    <tr>\n",
       "      <th>3</th>\n",
       "      <td>21</td>\n",
       "      <td>16</td>\n",
       "      <td>56</td>\n",
       "      <td>619</td>\n",
       "      <td>51</td>\n",
       "      <td>193</td>\n",
       "      <td>50</td>\n",
       "      <td>44</td>\n",
       "      <td>15</td>\n",
       "      <td>25</td>\n",
       "    </tr>\n",
       "    <tr>\n",
       "      <th>4</th>\n",
       "      <td>14</td>\n",
       "      <td>2</td>\n",
       "      <td>77</td>\n",
       "      <td>75</td>\n",
       "      <td>786</td>\n",
       "      <td>62</td>\n",
       "      <td>39</td>\n",
       "      <td>87</td>\n",
       "      <td>13</td>\n",
       "      <td>8</td>\n",
       "    </tr>\n",
       "    <tr>\n",
       "      <th>5</th>\n",
       "      <td>5</td>\n",
       "      <td>2</td>\n",
       "      <td>41</td>\n",
       "      <td>124</td>\n",
       "      <td>15</td>\n",
       "      <td>636</td>\n",
       "      <td>13</td>\n",
       "      <td>41</td>\n",
       "      <td>5</td>\n",
       "      <td>5</td>\n",
       "    </tr>\n",
       "    <tr>\n",
       "      <th>6</th>\n",
       "      <td>12</td>\n",
       "      <td>11</td>\n",
       "      <td>52</td>\n",
       "      <td>46</td>\n",
       "      <td>22</td>\n",
       "      <td>17</td>\n",
       "      <td>834</td>\n",
       "      <td>6</td>\n",
       "      <td>5</td>\n",
       "      <td>9</td>\n",
       "    </tr>\n",
       "    <tr>\n",
       "      <th>7</th>\n",
       "      <td>9</td>\n",
       "      <td>3</td>\n",
       "      <td>17</td>\n",
       "      <td>21</td>\n",
       "      <td>35</td>\n",
       "      <td>23</td>\n",
       "      <td>6</td>\n",
       "      <td>775</td>\n",
       "      <td>1</td>\n",
       "      <td>15</td>\n",
       "    </tr>\n",
       "    <tr>\n",
       "      <th>8</th>\n",
       "      <td>51</td>\n",
       "      <td>23</td>\n",
       "      <td>8</td>\n",
       "      <td>9</td>\n",
       "      <td>4</td>\n",
       "      <td>4</td>\n",
       "      <td>6</td>\n",
       "      <td>0</td>\n",
       "      <td>843</td>\n",
       "      <td>26</td>\n",
       "    </tr>\n",
       "    <tr>\n",
       "      <th>9</th>\n",
       "      <td>16</td>\n",
       "      <td>43</td>\n",
       "      <td>3</td>\n",
       "      <td>11</td>\n",
       "      <td>0</td>\n",
       "      <td>3</td>\n",
       "      <td>3</td>\n",
       "      <td>3</td>\n",
       "      <td>14</td>\n",
       "      <td>771</td>\n",
       "    </tr>\n",
       "  </tbody>\n",
       "</table>\n",
       "</div>"
      ],
      "text/plain": [
       "     0    1    2    3    4    5    6    7    8    9\n",
       "0  815   21   53   16   21   14    5   10   58   48\n",
       "1   11  867    3    4    2    1    3    4   23   80\n",
       "2   46   12  690   75   64   47   41   30   23   13\n",
       "3   21   16   56  619   51  193   50   44   15   25\n",
       "4   14    2   77   75  786   62   39   87   13    8\n",
       "5    5    2   41  124   15  636   13   41    5    5\n",
       "6   12   11   52   46   22   17  834    6    5    9\n",
       "7    9    3   17   21   35   23    6  775    1   15\n",
       "8   51   23    8    9    4    4    6    0  843   26\n",
       "9   16   43    3   11    0    3    3    3   14  771"
      ]
     },
     "execution_count": 13,
     "metadata": {},
     "output_type": "execute_result"
    }
   ],
   "source": [
    "import pandas as pd\n",
    "# {0:\"飛機\", 1:\"汽車\", 2:\"鳥\", 3:\"貓\", 4:\"鹿\", 5:\"狗\", 6:\"青蛙\",7:\"馬\", 8:\"船\", 9:\"貨車\"}\n",
    "from sklearn.metrics import confusion_matrix\n",
    "pd.DataFrame(confusion_matrix(cnn.predict_classes(x_test_shape), y_test))"
   ]
  },
  {
   "cell_type": "code",
   "execution_count": null,
   "metadata": {},
   "outputs": [],
   "source": []
  },
  {
   "cell_type": "code",
   "execution_count": null,
   "metadata": {},
   "outputs": [],
   "source": []
  }
 ],
 "metadata": {
  "kernelspec": {
   "display_name": "Python 3",
   "language": "python",
   "name": "python3"
  },
  "language_info": {
   "codemirror_mode": {
    "name": "ipython",
    "version": 3
   },
   "file_extension": ".py",
   "mimetype": "text/x-python",
   "name": "python",
   "nbconvert_exporter": "python",
   "pygments_lexer": "ipython3",
   "version": "3.6.0"
  }
 },
 "nbformat": 4,
 "nbformat_minor": 2
}
